{
  "cells": [
    {
      "source": [
        "# IMPORTANT: RUN THIS CELL IN ORDER TO IMPORT YOUR KAGGLE DATA SOURCES,\n",
        "# THEN FEEL FREE TO DELETE THIS CELL.\n",
        "# NOTE: THIS NOTEBOOK ENVIRONMENT DIFFERS FROM KAGGLE'S PYTHON\n",
        "# ENVIRONMENT SO THERE MAY BE MISSING LIBRARIES USED BY YOUR\n",
        "# NOTEBOOK.\n",
        "import kagglehub\n",
        "tunguz_big_five_personality_test_path = kagglehub.dataset_download('tunguz/big-five-personality-test')\n",
        "\n",
        "print('Data source import complete.')\n"
      ],
      "metadata": {
        "id": "V95fhWbNnENE"
      },
      "cell_type": "code",
      "outputs": [],
      "execution_count": null
    },
    {
      "metadata": {
        "id": "wTUAnOa2nENG"
      },
      "cell_type": "markdown",
      "source": [
        "# Five Personality Traits (OCEAN)\n",
        "\n",
        "Big Five personality traits, also known as the five-factor model (FFM) and the OCEAN model, is for grouping different personality traits.\n",
        "\n",
        "This theory uses descriptors of common language and suggests five broad dimensions commonly used to describe the human personality and psyche. The theory identifies five factors:\n",
        "\n",
        "* Openness to experience (inventive/curious vs. consistent/cautious)\n",
        "* Conscientiousness (efficient/organized vs. easy-going/careless)\n",
        "* Extroversion (outgoing/energetic vs. solitary/reserved)\n",
        "* Agreeableness (friendly/compassionate vs. challenging/detached)\n",
        "* Neuroticism (sensitive/nervous vs. secure/confident)\n",
        "\n",
        "1280px-Wiki-grafik_peats-de_big_five_ENG.png![image.png](attachment:image.png)\n",
        "\n",
        "This data set was collected (2016-2018) through an interactive on-line personality test. The personality test was constructed from the IPIP.\n",
        "\n",
        "The scale was labeled between 1=Disagree, 3=Neutral, 5=Agree.\n",
        "\n",
        "You can find more info about each question in the data set link.\n",
        "\n",
        "In this study I will analyse the data set and use unsupervised learning algorithm K-Means Clustering for clustering the participants.\n",
        "\n",
        "Resources:\n",
        "https://en.wikipedia.org/wiki/Big_Five_personality_traits\n",
        "https://ipip.ori.org/newBigFive5broadKey.htm\n",
        "https://www.kaggle.com/tunguz/big-five-personality-test"
      ]
    },
    {
      "metadata": {
        "_uuid": "8f2839f25d086af736a60e9eeb907d3b93b6e0e5",
        "_cell_guid": "b1076dfc-b9ad-4769-8c92-a6c4dae69d19",
        "trusted": true,
        "_kg_hide-input": true,
        "id": "HXGDNMQdnENH"
      },
      "cell_type": "code",
      "source": [
        "import numpy as np\n",
        "import pandas as pd\n",
        "import matplotlib.pyplot as plt\n",
        "import seaborn as sns\n",
        "import os"
      ],
      "execution_count": null,
      "outputs": []
    },
    {
      "metadata": {
        "id": "yU_4Gso5nENH"
      },
      "cell_type": "markdown",
      "source": [
        "## Loading the Data Set"
      ]
    },
    {
      "metadata": {
        "_uuid": "d629ff2d2480ee46fbb7e2d37f6b5fab8052498a",
        "_cell_guid": "79c7e3d0-c299-4dcb-8224-4455121ee9b0",
        "trusted": true,
        "_kg_hide-input": true,
        "id": "zBBi0T5AnENH"
      },
      "cell_type": "code",
      "source": [
        "data_raw = pd.read_csv('../input/big-five-personality-test/IPIP-FFM-data-8Nov2018/data-final.csv', sep='\\t')\n",
        "data = data_raw.copy()\n",
        "pd.options.display.max_columns = 150\n",
        "\n",
        "data.drop(data.columns[50:107], axis=1, inplace=True)\n",
        "data.drop(data.columns[51:], axis=1, inplace=True)\n",
        "\n",
        "print('Number of participants: ', len(data))\n",
        "data.head()"
      ],
      "execution_count": null,
      "outputs": []
    },
    {
      "metadata": {
        "id": "M7LRsqbKnENH"
      },
      "cell_type": "markdown",
      "source": [
        "## Understanding the Data Set"
      ]
    },
    {
      "metadata": {
        "trusted": true,
        "_kg_hide-input": true,
        "id": "whSCwJjonENI"
      },
      "cell_type": "code",
      "source": [
        "print('Is there any missing value? ', data.isnull().values.any())\n",
        "print('How many missing values? ', data.isnull().values.sum())\n",
        "data.dropna(inplace=True)\n",
        "print('Number of participants after eliminating missing values: ', len(data))"
      ],
      "execution_count": null,
      "outputs": []
    },
    {
      "metadata": {
        "trusted": true,
        "_kg_hide-input": true,
        "id": "VvEsEzoBnENI"
      },
      "cell_type": "code",
      "source": [
        "# Participants' nationality distriution\n",
        "countries = pd.DataFrame(data['country'].value_counts())\n",
        "countries_5000 = countries[countries['country'] >= 5000]\n",
        "plt.figure(figsize=(15,5))\n",
        "sns.barplot(data=countries_5000, x=countries_5000.index, y='country')\n",
        "plt.title('Countries With More Than 5000 Participants')\n",
        "plt.ylabel('Participants');"
      ],
      "execution_count": null,
      "outputs": []
    },
    {
      "metadata": {
        "trusted": true,
        "_kg_hide-input": true,
        "id": "UuolClrCnENI"
      },
      "cell_type": "code",
      "source": [
        "# Groups and Questions\n",
        "ext_questions = {'EXT1' : 'I am the life of the party',\n",
        "                 'EXT2' : 'I dont talk a lot',\n",
        "                 'EXT3' : 'I feel comfortable around people',\n",
        "                 'EXT4' : 'I keep in the background',\n",
        "                 'EXT5' : 'I start conversations',\n",
        "                 'EXT6' : 'I have little to say',\n",
        "                 'EXT7' : 'I talk to a lot of different people at parties',\n",
        "                 'EXT8' : 'I dont like to draw attention to myself',\n",
        "                 'EXT9' : 'I dont mind being the center of attention',\n",
        "                 'EXT10': 'I am quiet around strangers'}\n",
        "\n",
        "est_questions = {'EST1' : 'I get stressed out easily',\n",
        "                 'EST2' : 'I am relaxed most of the time',\n",
        "                 'EST3' : 'I worry about things',\n",
        "                 'EST4' : 'I seldom feel blue',\n",
        "                 'EST5' : 'I am easily disturbed',\n",
        "                 'EST6' : 'I get upset easily',\n",
        "                 'EST7' : 'I change my mood a lot',\n",
        "                 'EST8' : 'I have frequent mood swings',\n",
        "                 'EST9' : 'I get irritated easily',\n",
        "                 'EST10': 'I often feel blue'}\n",
        "\n",
        "agr_questions = {'AGR1' : 'I feel little concern for others',\n",
        "                 'AGR2' : 'I am interested in people',\n",
        "                 'AGR3' : 'I insult people',\n",
        "                 'AGR4' : 'I sympathize with others feelings',\n",
        "                 'AGR5' : 'I am not interested in other peoples problems',\n",
        "                 'AGR6' : 'I have a soft heart',\n",
        "                 'AGR7' : 'I am not really interested in others',\n",
        "                 'AGR8' : 'I take time out for others',\n",
        "                 'AGR9' : 'I feel others emotions',\n",
        "                 'AGR10': 'I make people feel at ease'}\n",
        "\n",
        "csn_questions = {'CSN1' : 'I am always prepared',\n",
        "                 'CSN2' : 'I leave my belongings around',\n",
        "                 'CSN3' : 'I pay attention to details',\n",
        "                 'CSN4' : 'I make a mess of things',\n",
        "                 'CSN5' : 'I get chores done right away',\n",
        "                 'CSN6' : 'I often forget to put things back in their proper place',\n",
        "                 'CSN7' : 'I like order',\n",
        "                 'CSN8' : 'I shirk my duties',\n",
        "                 'CSN9' : 'I follow a schedule',\n",
        "                 'CSN10' : 'I am exacting in my work'}\n",
        "\n",
        "opn_questions = {'OPN1' : 'I have a rich vocabulary',\n",
        "                 'OPN2' : 'I have difficulty understanding abstract ideas',\n",
        "                 'OPN3' : 'I have a vivid imagination',\n",
        "                 'OPN4' : 'I am not interested in abstract ideas',\n",
        "                 'OPN5' : 'I have excellent ideas',\n",
        "                 'OPN6' : 'I do not have a good imagination',\n",
        "                 'OPN7' : 'I am quick to understand things',\n",
        "                 'OPN8' : 'I use difficult words',\n",
        "                 'OPN9' : 'I spend time reflecting on things',\n",
        "                 'OPN10': 'I am full of ideas'}\n",
        "\n",
        "# Group Names and Columns\n",
        "EXT = [column for column in data if column.startswith('EXT')]\n",
        "EST = [column for column in data if column.startswith('EST')]\n",
        "AGR = [column for column in data if column.startswith('AGR')]\n",
        "CSN = [column for column in data if column.startswith('CSN')]\n",
        "OPN = [column for column in data if column.startswith('OPN')]"
      ],
      "execution_count": null,
      "outputs": []
    },
    {
      "metadata": {
        "trusted": true,
        "_kg_hide-input": false,
        "id": "B55xyyE4nENI"
      },
      "cell_type": "code",
      "source": [
        "# Defining a function to visualize the questions and answers distribution\n",
        "def vis_questions(groupname, questions, color):\n",
        "    plt.figure(figsize=(40,60))\n",
        "    for i in range(1, 11):\n",
        "        plt.subplot(10,5,i)\n",
        "        plt.hist(data[groupname[i-1]], bins=14, color= color, alpha=.5)\n",
        "        plt.title(questions[groupname[i-1]], fontsize=18)"
      ],
      "execution_count": null,
      "outputs": []
    },
    {
      "metadata": {
        "trusted": true,
        "_kg_hide-input": true,
        "id": "g2D_vgMDnENJ"
      },
      "cell_type": "code",
      "source": [
        "print('Q&As Related to Extroversion Personality')\n",
        "vis_questions(EXT, ext_questions, 'orange')"
      ],
      "execution_count": null,
      "outputs": []
    },
    {
      "metadata": {
        "trusted": true,
        "_kg_hide-input": true,
        "id": "LXuUsmACnENJ"
      },
      "cell_type": "code",
      "source": [
        "print('Q&As Related to Neuroticism Personality')\n",
        "vis_questions(EST, est_questions, 'pink')"
      ],
      "execution_count": null,
      "outputs": []
    },
    {
      "metadata": {
        "trusted": true,
        "_kg_hide-input": true,
        "id": "y41qSW0UnENJ"
      },
      "cell_type": "code",
      "source": [
        "print('Q&As Related to Agreeable Personality')\n",
        "vis_questions(AGR, agr_questions, 'red')"
      ],
      "execution_count": null,
      "outputs": []
    },
    {
      "metadata": {
        "trusted": true,
        "_kg_hide-input": true,
        "id": "tJXl6oO1nENJ"
      },
      "cell_type": "code",
      "source": [
        "print('Q&As Related to Conscientious Personality')\n",
        "vis_questions(CSN, csn_questions, 'purple')"
      ],
      "execution_count": null,
      "outputs": []
    },
    {
      "metadata": {
        "trusted": true,
        "_kg_hide-input": true,
        "id": "nqzW0NFEnENJ"
      },
      "cell_type": "code",
      "source": [
        "print('Q&As Related to Open Personality')\n",
        "vis_questions(OPN, opn_questions, 'blue')"
      ],
      "execution_count": null,
      "outputs": []
    },
    {
      "metadata": {
        "id": "S7PBjfWAnENJ"
      },
      "cell_type": "markdown",
      "source": [
        "## How many clusters should we define?"
      ]
    },
    {
      "metadata": {
        "trusted": true,
        "id": "nMj1idxAnENJ"
      },
      "cell_type": "code",
      "source": [
        "# For ease of calculation lets scale all the values between 0-1 and take a sample of 5000\n",
        "from sklearn.preprocessing import MinMaxScaler\n",
        "\n",
        "df = data.drop('country', axis=1)\n",
        "columns = list(df.columns)\n",
        "\n",
        "scaler = MinMaxScaler(feature_range=(0,1))\n",
        "df = scaler.fit_transform(df)\n",
        "df = pd.DataFrame(df, columns=columns)\n",
        "df_sample = df[:5000]"
      ],
      "execution_count": null,
      "outputs": []
    },
    {
      "metadata": {
        "trusted": true,
        "id": "zZPuELGRnENJ"
      },
      "cell_type": "code",
      "source": [
        "# Visualize the elbow\n",
        "from sklearn.cluster import KMeans\n",
        "from yellowbrick.cluster import KElbowVisualizer\n",
        "\n",
        "kmeans = KMeans()\n",
        "visualizer = KElbowVisualizer(kmeans, k=(2,15))\n",
        "visualizer.fit(df_sample)\n",
        "visualizer.poof()"
      ],
      "execution_count": null,
      "outputs": []
    },
    {
      "metadata": {
        "id": "rCmn1UwCnENJ"
      },
      "cell_type": "markdown",
      "source": [
        "As you can see 5 clusters looks optimum for the data set and we already know this researh is to identify 5 different personalities."
      ]
    },
    {
      "metadata": {
        "id": "ExL0vmXUnENK"
      },
      "cell_type": "markdown",
      "source": [
        "## Clustering Participants into 5 Personality Groups"
      ]
    },
    {
      "metadata": {
        "trusted": true,
        "id": "ynXhGK2EnENK"
      },
      "cell_type": "code",
      "source": [
        "# Creating K-means Cluster Model\n",
        "from sklearn.cluster import KMeans\n",
        "\n",
        "# I use the unscaled data but without the country column\n",
        "df_model = data.drop('country', axis=1)\n",
        "\n",
        "# I define 5 clusters and fit my model\n",
        "kmeans = KMeans(n_clusters=5)\n",
        "k_fit = kmeans.fit(df_model)"
      ],
      "execution_count": null,
      "outputs": []
    },
    {
      "metadata": {
        "trusted": true,
        "id": "4FIz-RbEnENK"
      },
      "cell_type": "code",
      "source": [
        "# Predicting the Clusters\n",
        "pd.options.display.max_columns = 10\n",
        "predictions = k_fit.labels_\n",
        "df_model['Clusters'] = predictions\n",
        "df_model.head()"
      ],
      "execution_count": null,
      "outputs": []
    },
    {
      "metadata": {
        "id": "t1qV9WMUnENK"
      },
      "cell_type": "markdown",
      "source": [
        "## Analysing the Model and Predictions"
      ]
    },
    {
      "metadata": {
        "id": "7hyX3aFunENK"
      },
      "cell_type": "markdown",
      "source": [
        "How many individual do we have for each cluster?"
      ]
    },
    {
      "metadata": {
        "_kg_hide-input": true,
        "trusted": true,
        "id": "2H-ijwmMnENK"
      },
      "cell_type": "code",
      "source": [
        "df_model.Clusters.value_counts()"
      ],
      "execution_count": null,
      "outputs": []
    },
    {
      "metadata": {
        "id": "7wzpMIBknENK"
      },
      "cell_type": "markdown",
      "source": [
        "Let's group the results acording to clusters. That way we can investigate the average answer to the each question for each cluster.\n",
        "\n",
        "That way we can have an intuition about how our model classifies people."
      ]
    },
    {
      "metadata": {
        "trusted": true,
        "_kg_hide-input": true,
        "id": "vzNYQImSnENK"
      },
      "cell_type": "code",
      "source": [
        "pd.options.display.max_columns = 150\n",
        "df_model.groupby('Clusters').mean()"
      ],
      "execution_count": null,
      "outputs": []
    },
    {
      "metadata": {
        "id": "0fImQElnnENK"
      },
      "cell_type": "markdown",
      "source": [
        "Let's sum up the each question groups (EXT, EST ..) and see if we can see a pattern."
      ]
    },
    {
      "metadata": {
        "trusted": true,
        "_kg_hide-input": true,
        "id": "fcLqLYW8nENK"
      },
      "cell_type": "code",
      "source": [
        "# Summing up the different questions groups\n",
        "col_list = list(df_model)\n",
        "ext = col_list[0:10]\n",
        "est = col_list[10:20]\n",
        "agr = col_list[20:30]\n",
        "csn = col_list[30:40]\n",
        "opn = col_list[40:50]\n",
        "\n",
        "data_sums = pd.DataFrame()\n",
        "data_sums['extroversion'] = df_model[ext].sum(axis=1)/10\n",
        "data_sums['neurotic'] = df_model[est].sum(axis=1)/10\n",
        "data_sums['agreeable'] = df_model[agr].sum(axis=1)/10\n",
        "data_sums['conscientious'] = df_model[csn].sum(axis=1)/10\n",
        "data_sums['open'] = df_model[opn].sum(axis=1)/10\n",
        "data_sums['clusters'] = predictions\n",
        "data_sums.groupby('clusters').mean()"
      ],
      "execution_count": null,
      "outputs": []
    },
    {
      "metadata": {
        "trusted": true,
        "_kg_hide-input": true,
        "id": "iawJTmlbnENK"
      },
      "cell_type": "code",
      "source": [
        "# Visualizing the means for each cluster\n",
        "dataclusters = data_sums.groupby('clusters').mean()\n",
        "plt.figure(figsize=(22,3))\n",
        "for i in range(0, 5):\n",
        "    plt.subplot(1,5,i+1)\n",
        "    plt.bar(dataclusters.columns, dataclusters.iloc[:, i], color='green', alpha=0.2)\n",
        "    plt.plot(dataclusters.columns, dataclusters.iloc[:, i], color='red')\n",
        "    plt.title('Cluster ' + str(i))\n",
        "    plt.xticks(rotation=45)\n",
        "    plt.ylim(0,4);"
      ],
      "execution_count": null,
      "outputs": []
    },
    {
      "metadata": {
        "id": "FjZEQFbEnENK"
      },
      "cell_type": "markdown",
      "source": [
        "## Visualizing the Cluster Predictions"
      ]
    },
    {
      "metadata": {
        "trusted": true,
        "id": "Hygh1T_TnENK"
      },
      "cell_type": "code",
      "source": [
        "# In order to visualize in 2D graph I will use PCA\n",
        "from sklearn.decomposition import PCA\n",
        "\n",
        "pca = PCA(n_components=2)\n",
        "pca_fit = pca.fit_transform(df_model)\n",
        "\n",
        "df_pca = pd.DataFrame(data=pca_fit, columns=['PCA1', 'PCA2'])\n",
        "df_pca['Clusters'] = predictions\n",
        "df_pca.head()"
      ],
      "execution_count": null,
      "outputs": []
    },
    {
      "metadata": {
        "trusted": true,
        "_kg_hide-input": true,
        "id": "sFAuJL6CnENK"
      },
      "cell_type": "code",
      "source": [
        "plt.figure(figsize=(10,10))\n",
        "sns.scatterplot(data=df_pca, x='PCA1', y='PCA2', hue='Clusters', palette='Set2', alpha=0.8)\n",
        "plt.title('Personality Clusters after PCA');"
      ],
      "execution_count": null,
      "outputs": []
    },
    {
      "metadata": {
        "id": "n7DusN7fnENK"
      },
      "cell_type": "markdown",
      "source": [
        "## Implementing the Model to See My Personality\n",
        "\n",
        "I answered the questions in an Microsoft Excel spread sheet.\n",
        "Then I added that data into this notebook and put my answers to the model to see in which category I will be."
      ]
    },
    {
      "metadata": {
        "trusted": true,
        "id": "ume7nZMGnENK"
      },
      "cell_type": "code",
      "source": [
        "my_data = pd.read_excel('../input/personalitytest/my_personality_test.xlsx')\n",
        "my_data"
      ],
      "execution_count": null,
      "outputs": []
    },
    {
      "metadata": {
        "trusted": true,
        "id": "xVIpXmO7nENK"
      },
      "cell_type": "code",
      "source": [
        "my_personality = k_fit.predict(my_data)\n",
        "print('My Personality Cluster: ', my_personality)"
      ],
      "execution_count": null,
      "outputs": []
    },
    {
      "metadata": {
        "_kg_hide-input": true,
        "trusted": true,
        "id": "CeVoLq3unENL"
      },
      "cell_type": "code",
      "source": [
        "# Summing up the my question groups\n",
        "col_list = list(my_data)\n",
        "ext = col_list[0:10]\n",
        "est = col_list[10:20]\n",
        "agr = col_list[20:30]\n",
        "csn = col_list[30:40]\n",
        "opn = col_list[40:50]\n",
        "\n",
        "my_sums = pd.DataFrame()\n",
        "my_sums['extroversion'] = my_data[ext].sum(axis=1)/10\n",
        "my_sums['neurotic'] = my_data[est].sum(axis=1)/10\n",
        "my_sums['agreeable'] = my_data[agr].sum(axis=1)/10\n",
        "my_sums['conscientious'] = my_data[csn].sum(axis=1)/10\n",
        "my_sums['open'] = my_data[opn].sum(axis=1)/10\n",
        "my_sums['cluster'] = my_personality\n",
        "print('Sum of my question groups')\n",
        "my_sums"
      ],
      "execution_count": null,
      "outputs": []
    },
    {
      "metadata": {
        "_kg_hide-input": true,
        "trusted": true,
        "id": "YJwymYY7nENL"
      },
      "cell_type": "code",
      "source": [
        "my_sum = my_sums.drop('cluster', axis=1)\n",
        "plt.bar(my_sum.columns, my_sum.iloc[0,:], color='green', alpha=0.2)\n",
        "plt.plot(my_sum.columns, my_sum.iloc[0,:], color='red')\n",
        "plt.title('Cluster 2')\n",
        "plt.xticks(rotation=45)\n",
        "plt.ylim(0,4);"
      ],
      "execution_count": null,
      "outputs": []
    },
    {
      "metadata": {
        "id": "JRIAo2nunENL"
      },
      "cell_type": "markdown",
      "source": [
        "You can fork my notebook and put your answers in order to see your personality too.\n",
        "\n",
        "Don't forget to upvote if you liked my work."
      ]
    }
  ],
  "metadata": {
    "kernelspec": {
      "language": "python",
      "display_name": "Python 3",
      "name": "python3"
    },
    "language_info": {
      "pygments_lexer": "ipython3",
      "nbconvert_exporter": "python",
      "version": "3.6.4",
      "file_extension": ".py",
      "codemirror_mode": {
        "name": "ipython",
        "version": 3
      },
      "name": "python",
      "mimetype": "text/x-python"
    },
    "colab": {
      "name": "Five Personality Clusters",
      "provenance": []
    }
  },
  "nbformat": 4,
  "nbformat_minor": 0
}